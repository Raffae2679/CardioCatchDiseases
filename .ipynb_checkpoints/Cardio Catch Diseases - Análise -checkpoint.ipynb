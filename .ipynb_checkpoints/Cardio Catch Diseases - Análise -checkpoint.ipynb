{
 "cells": [
  {
   "cell_type": "markdown",
   "metadata": {},
   "source": [
    "# Análise de Dados  - Cardio Catch Diseases"
   ]
  },
  {
   "cell_type": "markdown",
   "metadata": {},
   "source": [
    "A Cadio Catch Diseases é uma empresa especializada em detecção de doenças cardíacas em estágios iniciais. O seu modelo de negócio é do tipo Serviço, ou seja, a empresa ofereço o diagnóstico precoce de uma doença cardiovascular por um certo preço."
   ]
  },
  {
   "cell_type": "markdown",
   "metadata": {},
   "source": [
    "`O preço do diagnóstico, pago pelo cliente, varia de acordo com a precisão conseguida pelo time de especialistas, o cliente paga R$500,00 a cada 5% de acurácia acima de 50%. Por exemplo, para uma precisão de 55%, o diagnóstico custa R$500,00 para o cliente, para uma precisão de 60%, o valor é de R$ 1000,00 e assim por diante. Se a precisão do diagnóstico for 50% o cliente não paga por ele.`"
   ]
  },
  {
   "cell_type": "markdown",
   "metadata": {},
   "source": [
    "### Perguntas que devem ser respondidas ao CEO\n",
    "- Qual a Acurácia e a Precisão da ferramenta?\n",
    "- Quanto lucro a Cardio Catch Diseases passará a ter com a nova ferramenta?\n",
    "- Qual a Confiabilidade do resultado dados pela nova ferramenta?"
   ]
  },
  {
   "cell_type": "markdown",
   "metadata": {},
   "source": [
    "________"
   ]
  },
  {
   "cell_type": "markdown",
   "metadata": {},
   "source": [
    "## Importação das bibliotecas"
   ]
  },
  {
   "cell_type": "code",
   "execution_count": 1,
   "metadata": {},
   "outputs": [],
   "source": [
    "import pandas as pd\n",
    "import matplotlib.pyplot as plt\n",
    "import seaborn as sns"
   ]
  },
  {
   "cell_type": "markdown",
   "metadata": {},
   "source": [
    "## Leitura e Tratamento dos Dados\n",
    "\n",
    "Começamos com a leitura do nosso dataset, que será usado no decorrer do projeto. Após isso, realizei o tratamento da coluna de idade (\"age\"), pois ela estava sendo dada em dias e não em anos como comumente usamos. Além disso, realizei a adição de uma nova coluna, onde ficará contido o imc das pessoas, visto que faria mais sentido ter esse dado durante a analise.\n",
    "\n",
    "Durante a analise, foi encontrado vários dados como outliers, nas colunas de imc, pressão sistolica e pressão diastolica. Foi realizado uma query e consequentemente, a exclusão desses dados. Dados outliers atrapalhavam na observação e consequentemente, dariam problemas para nosso modelo.\n",
    "\n",
    "(o dataframe gerado a baixo ainda possui os dados outliers)"
   ]
  },
  {
   "cell_type": "code",
   "execution_count": 2,
   "metadata": {},
   "outputs": [
    {
     "data": {
      "text/html": [
       "<div>\n",
       "<style scoped>\n",
       "    .dataframe tbody tr th:only-of-type {\n",
       "        vertical-align: middle;\n",
       "    }\n",
       "\n",
       "    .dataframe tbody tr th {\n",
       "        vertical-align: top;\n",
       "    }\n",
       "\n",
       "    .dataframe thead th {\n",
       "        text-align: right;\n",
       "    }\n",
       "</style>\n",
       "<table border=\"1\" class=\"dataframe\">\n",
       "  <thead>\n",
       "    <tr style=\"text-align: right;\">\n",
       "      <th></th>\n",
       "      <th>id</th>\n",
       "      <th>age</th>\n",
       "      <th>gender</th>\n",
       "      <th>height</th>\n",
       "      <th>weight</th>\n",
       "      <th>ap_hi</th>\n",
       "      <th>ap_lo</th>\n",
       "      <th>cholesterol</th>\n",
       "      <th>gluc</th>\n",
       "      <th>smoke</th>\n",
       "      <th>alco</th>\n",
       "      <th>active</th>\n",
       "      <th>cardio</th>\n",
       "      <th>imc</th>\n",
       "    </tr>\n",
       "  </thead>\n",
       "  <tbody>\n",
       "    <tr>\n",
       "      <th>0</th>\n",
       "      <td>0</td>\n",
       "      <td>50</td>\n",
       "      <td>2</td>\n",
       "      <td>168</td>\n",
       "      <td>62.0</td>\n",
       "      <td>110</td>\n",
       "      <td>80</td>\n",
       "      <td>1</td>\n",
       "      <td>1</td>\n",
       "      <td>0</td>\n",
       "      <td>0</td>\n",
       "      <td>1</td>\n",
       "      <td>0</td>\n",
       "      <td>21.97</td>\n",
       "    </tr>\n",
       "    <tr>\n",
       "      <th>1</th>\n",
       "      <td>1</td>\n",
       "      <td>55</td>\n",
       "      <td>1</td>\n",
       "      <td>156</td>\n",
       "      <td>85.0</td>\n",
       "      <td>140</td>\n",
       "      <td>90</td>\n",
       "      <td>3</td>\n",
       "      <td>1</td>\n",
       "      <td>0</td>\n",
       "      <td>0</td>\n",
       "      <td>1</td>\n",
       "      <td>1</td>\n",
       "      <td>34.93</td>\n",
       "    </tr>\n",
       "    <tr>\n",
       "      <th>2</th>\n",
       "      <td>2</td>\n",
       "      <td>51</td>\n",
       "      <td>1</td>\n",
       "      <td>165</td>\n",
       "      <td>64.0</td>\n",
       "      <td>130</td>\n",
       "      <td>70</td>\n",
       "      <td>3</td>\n",
       "      <td>1</td>\n",
       "      <td>0</td>\n",
       "      <td>0</td>\n",
       "      <td>0</td>\n",
       "      <td>1</td>\n",
       "      <td>23.51</td>\n",
       "    </tr>\n",
       "    <tr>\n",
       "      <th>3</th>\n",
       "      <td>3</td>\n",
       "      <td>48</td>\n",
       "      <td>2</td>\n",
       "      <td>169</td>\n",
       "      <td>82.0</td>\n",
       "      <td>150</td>\n",
       "      <td>100</td>\n",
       "      <td>1</td>\n",
       "      <td>1</td>\n",
       "      <td>0</td>\n",
       "      <td>0</td>\n",
       "      <td>1</td>\n",
       "      <td>1</td>\n",
       "      <td>28.71</td>\n",
       "    </tr>\n",
       "    <tr>\n",
       "      <th>4</th>\n",
       "      <td>4</td>\n",
       "      <td>47</td>\n",
       "      <td>1</td>\n",
       "      <td>156</td>\n",
       "      <td>56.0</td>\n",
       "      <td>100</td>\n",
       "      <td>60</td>\n",
       "      <td>1</td>\n",
       "      <td>1</td>\n",
       "      <td>0</td>\n",
       "      <td>0</td>\n",
       "      <td>0</td>\n",
       "      <td>0</td>\n",
       "      <td>23.01</td>\n",
       "    </tr>\n",
       "  </tbody>\n",
       "</table>\n",
       "</div>"
      ],
      "text/plain": [
       "   id  age  gender  height  weight  ap_hi  ap_lo  cholesterol  gluc  smoke  \\\n",
       "0   0   50       2     168    62.0    110     80            1     1      0   \n",
       "1   1   55       1     156    85.0    140     90            3     1      0   \n",
       "2   2   51       1     165    64.0    130     70            3     1      0   \n",
       "3   3   48       2     169    82.0    150    100            1     1      0   \n",
       "4   4   47       1     156    56.0    100     60            1     1      0   \n",
       "\n",
       "   alco  active  cardio    imc  \n",
       "0     0       1       0  21.97  \n",
       "1     0       1       1  34.93  \n",
       "2     0       0       1  23.51  \n",
       "3     0       1       1  28.71  \n",
       "4     0       0       0  23.01  "
      ]
     },
     "execution_count": 2,
     "metadata": {},
     "output_type": "execute_result"
    }
   ],
   "source": [
    "df = pd.read_csv('cardio_train.csv', sep=',').drop(['Unnamed: 0'],axis=1)\n",
    "\n",
    "df.head()"
   ]
  },
  {
   "cell_type": "markdown",
   "metadata": {},
   "source": [
    "### Dados Outliers"
   ]
  },
  {
   "cell_type": "code",
   "execution_count": 3,
   "metadata": {},
   "outputs": [
    {
     "data": {
      "text/plain": [
       "<AxesSubplot:xlabel='imc'>"
      ]
     },
     "execution_count": 3,
     "metadata": {},
     "output_type": "execute_result"
    },
    {
     "data": {
      "image/png": "[encoded data removed]",
      "text/plain": [
       "<Figure size 576x432 with 1 Axes>"
      ]
     },
     "metadata": {
      "needs_background": "light"
     },
     "output_type": "display_data"
    }
   ],
   "source": [
    "plt.figure(figsize=(8,6))\n",
    "sns.boxplot(x='imc', data=df)"
   ]
  },
  {
   "cell_type": "code",
   "execution_count": 4,
   "metadata": {},
   "outputs": [
    {
     "data": {
      "text/plain": [
       "<AxesSubplot:xlabel='ap_hi'>"
      ]
     },
     "execution_count": 4,
     "metadata": {},
     "output_type": "execute_result"
    },
    {
     "data": {
      "image/png": "[encoded data removed]",
      "text/plain": [
       "<Figure size 576x432 with 1 Axes>"
      ]
     },
     "metadata": {
      "needs_background": "light"
     },
     "output_type": "display_data"
    }
   ],
   "source": [
    "plt.figure(figsize=(8,6))\n",
    "sns.boxplot(x='ap_hi', data=df)"
   ]
  },
  {
   "cell_type": "code",
   "execution_count": 5,
   "metadata": {},
   "outputs": [
    {
     "data": {
      "text/plain": [
       "<AxesSubplot:xlabel='ap_lo'>"
      ]
     },
     "execution_count": 5,
     "metadata": {},
     "output_type": "execute_result"
    },
    {
     "data": {
      "image/png": "[encoded data removed]",
      "text/plain": [
       "<Figure size 576x432 with 1 Axes>"
      ]
     },
     "metadata": {
      "needs_background": "light"
     },
     "output_type": "display_data"
    }
   ],
   "source": [
    "plt.figure(figsize=(8,6))\n",
    "sns.boxplot(x='ap_lo', data=df)"
   ]
  },
  {
   "cell_type": "markdown",
   "metadata": {},
   "source": [
    "Foi realizado então a filtragem desses dados removendo os valores outliers. A determinação dos intervalos foi obtida através de pesquisas realizadas na web, procurando por cada um dos assuntos especificos."
   ]
  },
  {
   "cell_type": "code",
   "execution_count": 6,
   "metadata": {
    "scrolled": false
   },
   "outputs": [
    {
     "data": {
      "text/html": [
       "<div>\n",
       "<style scoped>\n",
       "    .dataframe tbody tr th:only-of-type {\n",
       "        vertical-align: middle;\n",
       "    }\n",
       "\n",
       "    .dataframe tbody tr th {\n",
       "        vertical-align: top;\n",
       "    }\n",
       "\n",
       "    .dataframe thead th {\n",
       "        text-align: right;\n",
       "    }\n",
       "</style>\n",
       "<table border=\"1\" class=\"dataframe\">\n",
       "  <thead>\n",
       "    <tr style=\"text-align: right;\">\n",
       "      <th></th>\n",
       "      <th>id</th>\n",
       "      <th>age</th>\n",
       "      <th>gender</th>\n",
       "      <th>height</th>\n",
       "      <th>weight</th>\n",
       "      <th>ap_hi</th>\n",
       "      <th>ap_lo</th>\n",
       "      <th>cholesterol</th>\n",
       "      <th>gluc</th>\n",
       "      <th>smoke</th>\n",
       "      <th>alco</th>\n",
       "      <th>active</th>\n",
       "      <th>cardio</th>\n",
       "      <th>imc</th>\n",
       "    </tr>\n",
       "  </thead>\n",
       "  <tbody>\n",
       "    <tr>\n",
       "      <th>0</th>\n",
       "      <td>0</td>\n",
       "      <td>50</td>\n",
       "      <td>2</td>\n",
       "      <td>168</td>\n",
       "      <td>62.0</td>\n",
       "      <td>110</td>\n",
       "      <td>80</td>\n",
       "      <td>1</td>\n",
       "      <td>1</td>\n",
       "      <td>0</td>\n",
       "      <td>0</td>\n",
       "      <td>1</td>\n",
       "      <td>0</td>\n",
       "      <td>21.97</td>\n",
       "    </tr>\n",
       "    <tr>\n",
       "      <th>1</th>\n",
       "      <td>1</td>\n",
       "      <td>55</td>\n",
       "      <td>1</td>\n",
       "      <td>156</td>\n",
       "      <td>85.0</td>\n",
       "      <td>140</td>\n",
       "      <td>90</td>\n",
       "      <td>3</td>\n",
       "      <td>1</td>\n",
       "      <td>0</td>\n",
       "      <td>0</td>\n",
       "      <td>1</td>\n",
       "      <td>1</td>\n",
       "      <td>34.93</td>\n",
       "    </tr>\n",
       "    <tr>\n",
       "      <th>2</th>\n",
       "      <td>2</td>\n",
       "      <td>51</td>\n",
       "      <td>1</td>\n",
       "      <td>165</td>\n",
       "      <td>64.0</td>\n",
       "      <td>130</td>\n",
       "      <td>70</td>\n",
       "      <td>3</td>\n",
       "      <td>1</td>\n",
       "      <td>0</td>\n",
       "      <td>0</td>\n",
       "      <td>0</td>\n",
       "      <td>1</td>\n",
       "      <td>23.51</td>\n",
       "    </tr>\n",
       "    <tr>\n",
       "      <th>3</th>\n",
       "      <td>3</td>\n",
       "      <td>48</td>\n",
       "      <td>2</td>\n",
       "      <td>169</td>\n",
       "      <td>82.0</td>\n",
       "      <td>150</td>\n",
       "      <td>100</td>\n",
       "      <td>1</td>\n",
       "      <td>1</td>\n",
       "      <td>0</td>\n",
       "      <td>0</td>\n",
       "      <td>1</td>\n",
       "      <td>1</td>\n",
       "      <td>28.71</td>\n",
       "    </tr>\n",
       "    <tr>\n",
       "      <th>4</th>\n",
       "      <td>4</td>\n",
       "      <td>47</td>\n",
       "      <td>1</td>\n",
       "      <td>156</td>\n",
       "      <td>56.0</td>\n",
       "      <td>100</td>\n",
       "      <td>60</td>\n",
       "      <td>1</td>\n",
       "      <td>1</td>\n",
       "      <td>0</td>\n",
       "      <td>0</td>\n",
       "      <td>0</td>\n",
       "      <td>0</td>\n",
       "      <td>23.01</td>\n",
       "    </tr>\n",
       "  </tbody>\n",
       "</table>\n",
       "</div>"
      ],
      "text/plain": [
       "   id  age  gender  height  weight  ap_hi  ap_lo  cholesterol  gluc  smoke  \\\n",
       "0   0   50       2     168    62.0    110     80            1     1      0   \n",
       "1   1   55       1     156    85.0    140     90            3     1      0   \n",
       "2   2   51       1     165    64.0    130     70            3     1      0   \n",
       "3   3   48       2     169    82.0    150    100            1     1      0   \n",
       "4   4   47       1     156    56.0    100     60            1     1      0   \n",
       "\n",
       "   alco  active  cardio    imc  \n",
       "0     0       1       0  21.97  \n",
       "1     0       1       1  34.93  \n",
       "2     0       0       1  23.51  \n",
       "3     0       1       1  28.71  \n",
       "4     0       0       0  23.01  "
      ]
     },
     "execution_count": 6,
     "metadata": {},
     "output_type": "execute_result"
    }
   ],
   "source": [
    "df = df.query('ap_hi>=60 and ap_hi<=180')\n",
    "df = df.query('ap_lo>=40 and ap_lo<=140')\n",
    "df = df.query('imc>=14 and imc<=60')\n",
    "\n",
    "df.head()"
   ]
  },
  {
   "cell_type": "markdown",
   "metadata": {},
   "source": [
    "`Depois da filtragem, nosso data frame reduziu cerca de 2% (1603 elementos).`"
   ]
  },
  {
   "cell_type": "markdown",
   "metadata": {},
   "source": [
    "### Após a filtragem"
   ]
  },
  {
   "cell_type": "code",
   "execution_count": 7,
   "metadata": {},
   "outputs": [
    {
     "data": {
      "text/plain": [
       "<AxesSubplot:xlabel='imc'>"
      ]
     },
     "execution_count": 7,
     "metadata": {},
     "output_type": "execute_result"
    },
    {
     "data": {
      "image/png": "[encoded data removed]",
      "text/plain": [
       "<Figure size 576x432 with 1 Axes>"
      ]
     },
     "metadata": {
      "needs_background": "light"
     },
     "output_type": "display_data"
    }
   ],
   "source": [
    "plt.figure(figsize=(8,6))\n",
    "sns.boxplot(x='imc', data=df)"
   ]
  },
  {
   "cell_type": "code",
   "execution_count": 8,
   "metadata": {},
   "outputs": [
    {
     "data": {
      "text/plain": [
       "<AxesSubplot:xlabel='ap_hi'>"
      ]
     },
     "execution_count": 8,
     "metadata": {},
     "output_type": "execute_result"
    },
    {
     "data": {
      "image/png": "[encoded data removed]",
      "text/plain": [
       "<Figure size 576x432 with 1 Axes>"
      ]
     },
     "metadata": {
      "needs_background": "light"
     },
     "output_type": "display_data"
    }
   ],
   "source": [
    "plt.figure(figsize=(8,6))\n",
    "sns.boxplot(x='ap_hi', data=df)"
   ]
  },
  {
   "cell_type": "code",
   "execution_count": 9,
   "metadata": {},
   "outputs": [
    {
     "data": {
      "text/plain": [
       "<AxesSubplot:xlabel='ap_lo'>"
      ]
     },
     "execution_count": 9,
     "metadata": {},
     "output_type": "execute_result"
    },
    {
     "data": {
      "image/png": "[encoded data removed]",
      "text/plain": [
       "<Figure size 576x432 with 1 Axes>"
      ]
     },
     "metadata": {
      "needs_background": "light"
     },
     "output_type": "display_data"
    }
   ],
   "source": [
    "plt.figure(figsize=(8,6))\n",
    "sns.boxplot(x='ap_lo', data=df)"
   ]
  },
  {
   "cell_type": "markdown",
   "metadata": {},
   "source": [
    "## Hipóteses e Observações"
   ]
  },
  {
   "cell_type": "markdown",
   "metadata": {},
   "source": [
    "#### 1)  É possível observar que o dataset utilizado é ocupado predominantemente por homens, com cerca de 65.2%.\n"
   ]
  },
  {
   "cell_type": "code",
   "execution_count": 10,
   "metadata": {
    "scrolled": true
   },
   "outputs": [
    {
     "data": {
      "image/png": "[encoded data removed]",
      "text/plain": [
       "<Figure size 432x288 with 1 Axes>"
      ]
     },
     "metadata": {},
     "output_type": "display_data"
    }
   ],
   "source": [
    "valores = [a for a in df['gender'].value_counts()]\n",
    "\n",
    "explode = (0.1, 0) \n",
    "\n",
    "plt.pie(valores, labels=[\"Homens\",\"Mulheres\"],shadow=True, explode=explode, autopct='%1.1f%%')\n",
    "plt.legend([\"Homens\",\"Mulheres\"], loc=3)\n",
    "plt.title(\"Porcentagem dos gêneros presentes no dataset\")\n",
    "plt.show()"
   ]
  },
  {
   "cell_type": "markdown",
   "metadata": {},
   "source": [
    "#### 2)  O dataset também possui uma variedade de idades considerável, variando entre 29 até 64 anos"
   ]
  },
  {
   "cell_type": "code",
   "execution_count": 11,
   "metadata": {},
   "outputs": [
    {
     "data": {
      "text/plain": [
       "<AxesSubplot:xlabel='age', ylabel='Count'>"
      ]
     },
     "execution_count": 11,
     "metadata": {},
     "output_type": "execute_result"
    },
    {
     "data": {
      "image/png": "[encoded data removed]",
      "text/plain": [
       "<Figure size 432x288 with 1 Axes>"
      ]
     },
     "metadata": {
      "needs_background": "light"
     },
     "output_type": "display_data"
    }
   ],
   "source": [
    "sns.histplot(x='age',data=df, bins=20, kde=True)"
   ]
  },
  {
   "cell_type": "code",
   "execution_count": 12,
   "metadata": {
    "scrolled": true
   },
   "outputs": [
    {
     "data": {
      "text/plain": [
       "array([50, 55, 51, 48, 47, 60, 61, 54, 40, 39, 45, 58, 59, 63, 64, 53, 49,\n",
       "       57, 56, 46, 43, 62, 52, 42, 44, 41, 29, 30], dtype=int64)"
      ]
     },
     "execution_count": 12,
     "metadata": {},
     "output_type": "execute_result"
    }
   ],
   "source": [
    "df['age'].unique()"
   ]
  },
  {
   "cell_type": "markdown",
   "metadata": {},
   "source": [
    "**3)** Quando realizado a filtragem buscando quais idades tinham mais pessoas com problemas cardíacos, chegamos ao gráfico observado a baixo. Vale salientar que tanto homens quanto as mulheres possum uma alta quantidade de cardíacos na mesma faixa de idade, mudando apenas a ordem, que nas mulheres começa com 57 anos."
   ]
  },
  {
   "cell_type": "code",
   "execution_count": 13,
   "metadata": {
    "scrolled": false
   },
   "outputs": [
    {
     "data": {
      "image/png": "[encoded data removed]",
      "text/plain": [
       "<Figure size 576x432 with 1 Axes>"
      ]
     },
     "metadata": {},
     "output_type": "display_data"
    }
   ],
   "source": [
    "df_cardio = df.query('cardio==1 and gender == 1')\n",
    "age_value = df_cardio['age'].value_counts().index[:5]\n",
    "sns.set(style='darkgrid')\n",
    "plt.figure(figsize=(8,6))\n",
    "ax = sns.countplot(x = 'age', data = df_cardio.query('age in @age_value'), order=age_value)\n",
    "ax.set_title(\"Top 5 Idades com mais pessoas com problemas cardíacos\")\n",
    "plt.show()"
   ]
  },
  {
   "cell_type": "code",
   "execution_count": 14,
   "metadata": {},
   "outputs": [
    {
     "data": {
      "image/png": "[encoded data removed]",
      "text/plain": [
       "<Figure size 576x432 with 1 Axes>"
      ]
     },
     "metadata": {},
     "output_type": "display_data"
    }
   ],
   "source": [
    "df_cardio_m = df.query('cardio==1 and gender == 2')\n",
    "age_value = df_cardio['age'].value_counts().index[:5]\n",
    "sns.set(style='darkgrid')\n",
    "plt.figure(figsize=(8,6))\n",
    "ax = sns.countplot(x = 'age', data = df_cardio.query('age in @age_value'), order=age_value)\n",
    "ax.set_title(\"Top 5 Idades com mais pessoas com problemas cardíacos\")\n",
    "plt.show()"
   ]
  },
  {
   "cell_type": "markdown",
   "metadata": {},
   "source": [
    "**4)**   Antes de começar a analisar os dados a fundo, pensei que com o atributo active (que significa praticante de atividade física), eu poderia achar uma lógica e nele encontrar mais pessoas cardíacas. Porém quando analisei os dados, encontrei uma grande quantidade das pessoas, fazendo atividades. Isso me levou a levantar duas hipóteses:\n",
    "\n",
    "- Essas pessoas após receberem o laudo deram inicio as atividades, na busca por uma vida saúdavel afim de evitar doenças futuras ou problemas.\n",
    "\n",
    "- Essas pessoas apesar de treinar, não se cuidam e acabam que apesar de manterem um ritmo de atividades físicas, elas acabam se anulando devido ao descuido com outras partes, como por exemplo, alimentação."
   ]
  },
  {
   "cell_type": "code",
   "execution_count": 15,
   "metadata": {
    "scrolled": true
   },
   "outputs": [
    {
     "data": {
      "text/html": [
       "<div>\n",
       "<style scoped>\n",
       "    .dataframe tbody tr th:only-of-type {\n",
       "        vertical-align: middle;\n",
       "    }\n",
       "\n",
       "    .dataframe tbody tr th {\n",
       "        vertical-align: top;\n",
       "    }\n",
       "\n",
       "    .dataframe thead th {\n",
       "        text-align: right;\n",
       "    }\n",
       "</style>\n",
       "<table border=\"1\" class=\"dataframe\">\n",
       "  <thead>\n",
       "    <tr style=\"text-align: right;\">\n",
       "      <th></th>\n",
       "      <th>cardio</th>\n",
       "      <th>0</th>\n",
       "      <th>1</th>\n",
       "    </tr>\n",
       "    <tr>\n",
       "      <th>gender</th>\n",
       "      <th>active</th>\n",
       "      <th></th>\n",
       "      <th></th>\n",
       "    </tr>\n",
       "  </thead>\n",
       "  <tbody>\n",
       "    <tr>\n",
       "      <th rowspan=\"2\" valign=\"top\">1</th>\n",
       "      <th>0</th>\n",
       "      <td>4225</td>\n",
       "      <td>4605</td>\n",
       "    </tr>\n",
       "    <tr>\n",
       "      <th>1</th>\n",
       "      <td>18461</td>\n",
       "      <td>17270</td>\n",
       "    </tr>\n",
       "    <tr>\n",
       "      <th rowspan=\"2\" valign=\"top\">2</th>\n",
       "      <th>0</th>\n",
       "      <td>2080</td>\n",
       "      <td>2536</td>\n",
       "    </tr>\n",
       "    <tr>\n",
       "      <th>1</th>\n",
       "      <td>9889</td>\n",
       "      <td>9331</td>\n",
       "    </tr>\n",
       "  </tbody>\n",
       "</table>\n",
       "</div>"
      ],
      "text/plain": [
       "cardio             0      1\n",
       "gender active              \n",
       "1      0        4225   4605\n",
       "       1       18461  17270\n",
       "2      0        2080   2536\n",
       "       1        9889   9331"
      ]
     },
     "execution_count": 15,
     "metadata": {},
     "output_type": "execute_result"
    }
   ],
   "source": [
    "pd.crosstab([df['gender'],df['active']],df['cardio'])"
   ]
  },
  {
   "cell_type": "markdown",
   "metadata": {},
   "source": [
    "**5)** A média do imc das pessoas com problemas cardíacos é dado por 28, ou seja, sobrepeso. Abaixo temos um boxplot do imc das idades com mais pessoas cardíacas"
   ]
  },
  {
   "cell_type": "code",
   "execution_count": 16,
   "metadata": {
    "scrolled": true
   },
   "outputs": [
    {
     "data": {
      "text/plain": [
       "28.43445142552309"
      ]
     },
     "execution_count": 16,
     "metadata": {},
     "output_type": "execute_result"
    }
   ],
   "source": [
    "df_c = df.query('cardio==1')\n",
    "df_c['imc'].mean()"
   ]
  },
  {
   "cell_type": "code",
   "execution_count": 17,
   "metadata": {
    "scrolled": false
   },
   "outputs": [
    {
     "data": {
      "text/plain": [
       "<AxesSubplot:xlabel='age', ylabel='imc'>"
      ]
     },
     "execution_count": 17,
     "metadata": {},
     "output_type": "execute_result"
    },
    {
     "data": {
      "image/png": "[encoded data removed]",
      "text/plain": [
       "<Figure size 576x432 with 1 Axes>"
      ]
     },
     "metadata": {},
     "output_type": "display_data"
    }
   ],
   "source": [
    "df_ct = df.query('cardio==1')\n",
    "imc_value = df_ct['age'].value_counts().index[:5]\n",
    "plt.figure(figsize=(8,6))\n",
    "sns.boxplot(y='imc', x='age', data=df_ct.query('age in @imc_value'))"
   ]
  },
  {
   "cell_type": "markdown",
   "metadata": {},
   "source": [
    "**6)** Abaixo podemos ver um gráfico de calor, onde conseguimos enxergar a correlação das váriaveis presentes no dataset. Uma correlação forte que temos com os cardiacos é o atributo de pressão."
   ]
  },
  {
   "cell_type": "code",
   "execution_count": 18,
   "metadata": {},
   "outputs": [
    {
     "data": {
      "text/html": [
       "<div>\n",
       "<style scoped>\n",
       "    .dataframe tbody tr th:only-of-type {\n",
       "        vertical-align: middle;\n",
       "    }\n",
       "\n",
       "    .dataframe tbody tr th {\n",
       "        vertical-align: top;\n",
       "    }\n",
       "\n",
       "    .dataframe thead th {\n",
       "        text-align: right;\n",
       "    }\n",
       "</style>\n",
       "<table border=\"1\" class=\"dataframe\">\n",
       "  <thead>\n",
       "    <tr style=\"text-align: right;\">\n",
       "      <th></th>\n",
       "      <th>id</th>\n",
       "      <th>age</th>\n",
       "      <th>gender</th>\n",
       "      <th>height</th>\n",
       "      <th>weight</th>\n",
       "      <th>ap_hi</th>\n",
       "      <th>ap_lo</th>\n",
       "      <th>cholesterol</th>\n",
       "      <th>gluc</th>\n",
       "      <th>smoke</th>\n",
       "      <th>alco</th>\n",
       "      <th>active</th>\n",
       "      <th>cardio</th>\n",
       "      <th>imc</th>\n",
       "    </tr>\n",
       "  </thead>\n",
       "  <tbody>\n",
       "    <tr>\n",
       "      <th>id</th>\n",
       "      <td>1.000000</td>\n",
       "      <td>0.003580</td>\n",
       "      <td>0.002632</td>\n",
       "      <td>-0.003371</td>\n",
       "      <td>-0.001551</td>\n",
       "      <td>0.000633</td>\n",
       "      <td>-0.001404</td>\n",
       "      <td>0.005807</td>\n",
       "      <td>0.001919</td>\n",
       "      <td>-0.003662</td>\n",
       "      <td>0.000705</td>\n",
       "      <td>0.003457</td>\n",
       "      <td>0.003745</td>\n",
       "      <td>0.000135</td>\n",
       "    </tr>\n",
       "    <tr>\n",
       "      <th>age</th>\n",
       "      <td>0.003580</td>\n",
       "      <td>1.000000</td>\n",
       "      <td>-0.023143</td>\n",
       "      <td>-0.084255</td>\n",
       "      <td>0.054627</td>\n",
       "      <td>0.211361</td>\n",
       "      <td>0.153996</td>\n",
       "      <td>0.154819</td>\n",
       "      <td>0.098439</td>\n",
       "      <td>-0.047906</td>\n",
       "      <td>-0.029391</td>\n",
       "      <td>-0.010617</td>\n",
       "      <td>0.239512</td>\n",
       "      <td>0.101552</td>\n",
       "    </tr>\n",
       "    <tr>\n",
       "      <th>gender</th>\n",
       "      <td>0.002632</td>\n",
       "      <td>-0.023143</td>\n",
       "      <td>1.000000</td>\n",
       "      <td>0.514051</td>\n",
       "      <td>0.158149</td>\n",
       "      <td>0.060531</td>\n",
       "      <td>0.067609</td>\n",
       "      <td>-0.036825</td>\n",
       "      <td>-0.021478</td>\n",
       "      <td>0.338248</td>\n",
       "      <td>0.170721</td>\n",
       "      <td>0.005394</td>\n",
       "      <td>0.006634</td>\n",
       "      <td>-0.109985</td>\n",
       "    </tr>\n",
       "    <tr>\n",
       "      <th>height</th>\n",
       "      <td>-0.003371</td>\n",
       "      <td>-0.084255</td>\n",
       "      <td>0.514051</td>\n",
       "      <td>1.000000</td>\n",
       "      <td>0.311697</td>\n",
       "      <td>0.020652</td>\n",
       "      <td>0.039065</td>\n",
       "      <td>-0.054293</td>\n",
       "      <td>-0.020697</td>\n",
       "      <td>0.193517</td>\n",
       "      <td>0.097795</td>\n",
       "      <td>-0.009300</td>\n",
       "      <td>-0.011954</td>\n",
       "      <td>-0.210241</td>\n",
       "    </tr>\n",
       "    <tr>\n",
       "      <th>weight</th>\n",
       "      <td>-0.001551</td>\n",
       "      <td>0.054627</td>\n",
       "      <td>0.158149</td>\n",
       "      <td>0.311697</td>\n",
       "      <td>1.000000</td>\n",
       "      <td>0.269176</td>\n",
       "      <td>0.249453</td>\n",
       "      <td>0.141590</td>\n",
       "      <td>0.106996</td>\n",
       "      <td>0.066851</td>\n",
       "      <td>0.067750</td>\n",
       "      <td>-0.018155</td>\n",
       "      <td>0.179922</td>\n",
       "      <td>0.857416</td>\n",
       "    </tr>\n",
       "    <tr>\n",
       "      <th>ap_hi</th>\n",
       "      <td>0.000633</td>\n",
       "      <td>0.211361</td>\n",
       "      <td>0.060531</td>\n",
       "      <td>0.020652</td>\n",
       "      <td>0.269176</td>\n",
       "      <td>1.000000</td>\n",
       "      <td>0.703682</td>\n",
       "      <td>0.193364</td>\n",
       "      <td>0.091395</td>\n",
       "      <td>0.024903</td>\n",
       "      <td>0.029782</td>\n",
       "      <td>-0.000190</td>\n",
       "      <td>0.431380</td>\n",
       "      <td>0.264245</td>\n",
       "    </tr>\n",
       "    <tr>\n",
       "      <th>ap_lo</th>\n",
       "      <td>-0.001404</td>\n",
       "      <td>0.153996</td>\n",
       "      <td>0.067609</td>\n",
       "      <td>0.039065</td>\n",
       "      <td>0.249453</td>\n",
       "      <td>0.703682</td>\n",
       "      <td>1.000000</td>\n",
       "      <td>0.158658</td>\n",
       "      <td>0.073318</td>\n",
       "      <td>0.023699</td>\n",
       "      <td>0.038382</td>\n",
       "      <td>0.000218</td>\n",
       "      <td>0.337505</td>\n",
       "      <td>0.234607</td>\n",
       "    </tr>\n",
       "    <tr>\n",
       "      <th>cholesterol</th>\n",
       "      <td>0.005807</td>\n",
       "      <td>0.154819</td>\n",
       "      <td>-0.036825</td>\n",
       "      <td>-0.054293</td>\n",
       "      <td>0.141590</td>\n",
       "      <td>0.193364</td>\n",
       "      <td>0.158658</td>\n",
       "      <td>1.000000</td>\n",
       "      <td>0.451026</td>\n",
       "      <td>0.009786</td>\n",
       "      <td>0.034694</td>\n",
       "      <td>0.009016</td>\n",
       "      <td>0.221164</td>\n",
       "      <td>0.172148</td>\n",
       "    </tr>\n",
       "    <tr>\n",
       "      <th>gluc</th>\n",
       "      <td>0.001919</td>\n",
       "      <td>0.098439</td>\n",
       "      <td>-0.021478</td>\n",
       "      <td>-0.020697</td>\n",
       "      <td>0.106996</td>\n",
       "      <td>0.091395</td>\n",
       "      <td>0.073318</td>\n",
       "      <td>0.451026</td>\n",
       "      <td>1.000000</td>\n",
       "      <td>-0.005974</td>\n",
       "      <td>0.010119</td>\n",
       "      <td>-0.007906</td>\n",
       "      <td>0.089278</td>\n",
       "      <td>0.119453</td>\n",
       "    </tr>\n",
       "    <tr>\n",
       "      <th>smoke</th>\n",
       "      <td>-0.003662</td>\n",
       "      <td>-0.047906</td>\n",
       "      <td>0.338248</td>\n",
       "      <td>0.193517</td>\n",
       "      <td>0.066851</td>\n",
       "      <td>0.024903</td>\n",
       "      <td>0.023699</td>\n",
       "      <td>0.009786</td>\n",
       "      <td>-0.005974</td>\n",
       "      <td>1.000000</td>\n",
       "      <td>0.338068</td>\n",
       "      <td>0.025179</td>\n",
       "      <td>-0.016730</td>\n",
       "      <td>-0.034148</td>\n",
       "    </tr>\n",
       "    <tr>\n",
       "      <th>alco</th>\n",
       "      <td>0.000705</td>\n",
       "      <td>-0.029391</td>\n",
       "      <td>0.170721</td>\n",
       "      <td>0.097795</td>\n",
       "      <td>0.067750</td>\n",
       "      <td>0.029782</td>\n",
       "      <td>0.038382</td>\n",
       "      <td>0.034694</td>\n",
       "      <td>0.010119</td>\n",
       "      <td>0.338068</td>\n",
       "      <td>1.000000</td>\n",
       "      <td>0.024824</td>\n",
       "      <td>-0.009006</td>\n",
       "      <td>0.016813</td>\n",
       "    </tr>\n",
       "    <tr>\n",
       "      <th>active</th>\n",
       "      <td>0.003457</td>\n",
       "      <td>-0.010617</td>\n",
       "      <td>0.005394</td>\n",
       "      <td>-0.009300</td>\n",
       "      <td>-0.018155</td>\n",
       "      <td>-0.000190</td>\n",
       "      <td>0.000218</td>\n",
       "      <td>0.009016</td>\n",
       "      <td>-0.007906</td>\n",
       "      <td>0.025179</td>\n",
       "      <td>0.024824</td>\n",
       "      <td>1.000000</td>\n",
       "      <td>-0.037362</td>\n",
       "      <td>-0.014627</td>\n",
       "    </tr>\n",
       "    <tr>\n",
       "      <th>cardio</th>\n",
       "      <td>0.003745</td>\n",
       "      <td>0.239512</td>\n",
       "      <td>0.006634</td>\n",
       "      <td>-0.011954</td>\n",
       "      <td>0.179922</td>\n",
       "      <td>0.431380</td>\n",
       "      <td>0.337505</td>\n",
       "      <td>0.221164</td>\n",
       "      <td>0.089278</td>\n",
       "      <td>-0.016730</td>\n",
       "      <td>-0.009006</td>\n",
       "      <td>-0.037362</td>\n",
       "      <td>1.000000</td>\n",
       "      <td>0.189988</td>\n",
       "    </tr>\n",
       "    <tr>\n",
       "      <th>imc</th>\n",
       "      <td>0.000135</td>\n",
       "      <td>0.101552</td>\n",
       "      <td>-0.109985</td>\n",
       "      <td>-0.210241</td>\n",
       "      <td>0.857416</td>\n",
       "      <td>0.264245</td>\n",
       "      <td>0.234607</td>\n",
       "      <td>0.172148</td>\n",
       "      <td>0.119453</td>\n",
       "      <td>-0.034148</td>\n",
       "      <td>0.016813</td>\n",
       "      <td>-0.014627</td>\n",
       "      <td>0.189988</td>\n",
       "      <td>1.000000</td>\n",
       "    </tr>\n",
       "  </tbody>\n",
       "</table>\n",
       "</div>"
      ],
      "text/plain": [
       "                   id       age    gender    height    weight     ap_hi  \\\n",
       "id           1.000000  0.003580  0.002632 -0.003371 -0.001551  0.000633   \n",
       "age          0.003580  1.000000 -0.023143 -0.084255  0.054627  0.211361   \n",
       "gender       0.002632 -0.023143  1.000000  0.514051  0.158149  0.060531   \n",
       "height      -0.003371 -0.084255  0.514051  1.000000  0.311697  0.020652   \n",
       "weight      -0.001551  0.054627  0.158149  0.311697  1.000000  0.269176   \n",
       "ap_hi        0.000633  0.211361  0.060531  0.020652  0.269176  1.000000   \n",
       "ap_lo       -0.001404  0.153996  0.067609  0.039065  0.249453  0.703682   \n",
       "cholesterol  0.005807  0.154819 -0.036825 -0.054293  0.141590  0.193364   \n",
       "gluc         0.001919  0.098439 -0.021478 -0.020697  0.106996  0.091395   \n",
       "smoke       -0.003662 -0.047906  0.338248  0.193517  0.066851  0.024903   \n",
       "alco         0.000705 -0.029391  0.170721  0.097795  0.067750  0.029782   \n",
       "active       0.003457 -0.010617  0.005394 -0.009300 -0.018155 -0.000190   \n",
       "cardio       0.003745  0.239512  0.006634 -0.011954  0.179922  0.431380   \n",
       "imc          0.000135  0.101552 -0.109985 -0.210241  0.857416  0.264245   \n",
       "\n",
       "                ap_lo  cholesterol      gluc     smoke      alco    active  \\\n",
       "id          -0.001404     0.005807  0.001919 -0.003662  0.000705  0.003457   \n",
       "age          0.153996     0.154819  0.098439 -0.047906 -0.029391 -0.010617   \n",
       "gender       0.067609    -0.036825 -0.021478  0.338248  0.170721  0.005394   \n",
       "height       0.039065    -0.054293 -0.020697  0.193517  0.097795 -0.009300   \n",
       "weight       0.249453     0.141590  0.106996  0.066851  0.067750 -0.018155   \n",
       "ap_hi        0.703682     0.193364  0.091395  0.024903  0.029782 -0.000190   \n",
       "ap_lo        1.000000     0.158658  0.073318  0.023699  0.038382  0.000218   \n",
       "cholesterol  0.158658     1.000000  0.451026  0.009786  0.034694  0.009016   \n",
       "gluc         0.073318     0.451026  1.000000 -0.005974  0.010119 -0.007906   \n",
       "smoke        0.023699     0.009786 -0.005974  1.000000  0.338068  0.025179   \n",
       "alco         0.038382     0.034694  0.010119  0.338068  1.000000  0.024824   \n",
       "active       0.000218     0.009016 -0.007906  0.025179  0.024824  1.000000   \n",
       "cardio       0.337505     0.221164  0.089278 -0.016730 -0.009006 -0.037362   \n",
       "imc          0.234607     0.172148  0.119453 -0.034148  0.016813 -0.014627   \n",
       "\n",
       "               cardio       imc  \n",
       "id           0.003745  0.000135  \n",
       "age          0.239512  0.101552  \n",
       "gender       0.006634 -0.109985  \n",
       "height      -0.011954 -0.210241  \n",
       "weight       0.179922  0.857416  \n",
       "ap_hi        0.431380  0.264245  \n",
       "ap_lo        0.337505  0.234607  \n",
       "cholesterol  0.221164  0.172148  \n",
       "gluc         0.089278  0.119453  \n",
       "smoke       -0.016730 -0.034148  \n",
       "alco        -0.009006  0.016813  \n",
       "active      -0.037362 -0.014627  \n",
       "cardio       1.000000  0.189988  \n",
       "imc          0.189988  1.000000  "
      ]
     },
     "execution_count": 18,
     "metadata": {},
     "output_type": "execute_result"
    }
   ],
   "source": [
    "df.corr()"
   ]
  },
  {
   "cell_type": "code",
   "execution_count": 19,
   "metadata": {},
   "outputs": [
    {
     "data": {
      "text/plain": [
       "<AxesSubplot:>"
      ]
     },
     "execution_count": 19,
     "metadata": {},
     "output_type": "execute_result"
    },
    {
     "data": {
      "image/png": "[encoded data removed]",
      "text/plain": [
       "<Figure size 432x288 with 2 Axes>"
      ]
     },
     "metadata": {},
     "output_type": "display_data"
    }
   ],
   "source": [
    "sns.heatmap(df.corr())"
   ]
  },
  {
   "cell_type": "markdown",
   "metadata": {},
   "source": [
    "_____"
   ]
  },
  {
   "cell_type": "markdown",
   "metadata": {},
   "source": [
    "## Modelos de Machine Learning\n",
    "\n",
    "Durante os testes, fiz uso de 3 modelos de machine learning e obtive as seguintes porcentagens de acurâcia:\n",
    "\n",
    "- LinearSVC - 54.8%\n",
    "- Random Forest - 69%\n",
    "- Decision Tree - 73.41%\n",
    "\n",
    "Por fim, decidi fazer uso do modelo Decision Tree para realizar a predição dos clientes da Cardio Catch Diseases. Pois com seus resultados fixos e assertivos, ele traz estabilidade financeira para empresa, que tem como certeza o lucro por cada exame."
   ]
  },
  {
   "cell_type": "markdown",
   "metadata": {},
   "source": [
    "### Divisão dos dados"
   ]
  },
  {
   "cell_type": "code",
   "execution_count": 20,
   "metadata": {},
   "outputs": [],
   "source": [
    "from sklearn.model_selection import train_test_split\n",
    "\n",
    "x = df[['age','gender','ap_hi','ap_lo','cholesterol', 'gluc','smoke','alco','active','imc']]\n",
    "\n",
    "y = df['cardio'].values\n",
    "\n",
    "\n",
    "x_train, x_test, y_train, y_test = train_test_split(x, y, test_size = 0.2, random_state = 527)"
   ]
  },
  {
   "cell_type": "markdown",
   "metadata": {},
   "source": [
    "### Decision Tree"
   ]
  },
  {
   "cell_type": "code",
   "execution_count": 44,
   "metadata": {},
   "outputs": [
    {
     "name": "stdout",
     "output_type": "stream",
     "text": [
      "Taxa de acertos 73.41  %\n"
     ]
    }
   ],
   "source": [
    "from sklearn.tree import DecisionTreeClassifier\n",
    "\n",
    "modelo_arvore = DecisionTreeClassifier(max_depth=5)\n",
    "modelo_arvore.fit(x_train, y_train)\n",
    "\n",
    "previsoes = modelo_arvore.predict(x_test)\n",
    "\n",
    "taxa_de_acerto = accuracy_score(y_test,previsoes)\n",
    "print(\"Taxa de acertos %.2f \" % (taxa_de_acerto*100),\"%\")"
   ]
  },
  {
   "cell_type": "code",
   "execution_count": 36,
   "metadata": {},
   "outputs": [
    {
     "name": "stdout",
     "output_type": "stream",
     "text": [
      "Importância das features para o modelo: \n",
      "\n",
      "id:0.1259090293713722\n",
      "age:0.0\n",
      "gender:0.7788195544125197\n",
      "height:0.003914631748506525\n",
      "weight:0.07631103021512596\n",
      "ap_hi:0.007356610813298991\n",
      "ap_lo:0.0010159425521039506\n",
      "cholesterol:0.0\n",
      "gluc:0.0\n",
      "smoke:0.006673200887072626\n"
     ]
    }
   ],
   "source": [
    "print(\"Importância das features para o modelo: \\n\")\n",
    "for feature,importancia in zip(df.columns,modelo_arvore.feature_importances_):\n",
    "    print(\"{}:{}\".format(feature, importancia))"
   ]
  },
  {
   "cell_type": "code",
   "execution_count": 37,
   "metadata": {},
   "outputs": [
    {
     "data": {
      "image/png": "[encoded data removed]",
      "text/plain": [
       "<Figure size 1440x1080 with 1 Axes>"
      ]
     },
     "metadata": {},
     "output_type": "display_data"
    }
   ],
   "source": [
    "from sklearn import tree\n",
    "\n",
    "plt.figure(figsize=(20, 15))\n",
    "tree.plot_tree(modelo_arvore, feature_names= ['age','gender','ap_hi','ap_lo','cholesterol', 'gluc','smoke','alco','active','imc'], \n",
    "               class_names=[\"Não Cardio\",\"Cardio\"], filled = True)\n",
    "plt.show()"
   ]
  },
  {
   "cell_type": "markdown",
   "metadata": {},
   "source": [
    "### Validação do modelo:"
   ]
  },
  {
   "cell_type": "code",
   "execution_count": 58,
   "metadata": {
    "scrolled": true
   },
   "outputs": [
    {
     "name": "stdout",
     "output_type": "stream",
     "text": [
      "Score do Treino: 73.09%\n",
      "Score do Teste: 73.41%\n"
     ]
    }
   ],
   "source": [
    "valor_treino = modelo_arvore.score(x_train,y_train)\n",
    "valor_teste = modelo_arvore.score(x_test, y_test)\n",
    "\n",
    "print(\"Score do Treino: {}%\\nScore do Teste: {}%\".format(round(valor_treino*100,2), round(valor_teste*100,2)))"
   ]
  },
  {
   "cell_type": "markdown",
   "metadata": {},
   "source": [
    "Com esses resultados de score, conseguimos interpretar e perceber que o modelo está tendo uma performance consideravelmente boa e não está tendo Overfitting. Overfitting é quando o modelo “adivinha” muito bem os dados que foram usados para treiná-lo, mas ele não consegue se sair muito bem com dados que nunca viu, no caso, o y_teste. "
   ]
  },
  {
   "cell_type": "code",
   "execution_count": 55,
   "metadata": {
    "scrolled": false
   },
   "outputs": [
    {
     "data": {
      "text/plain": [
       "<AxesSubplot:>"
      ]
     },
     "execution_count": 55,
     "metadata": {},
     "output_type": "execute_result"
    },
    {
     "data": {
      "image/png": "[encoded data removed]",
      "text/plain": [
       "<Figure size 432x288 with 2 Axes>"
      ]
     },
     "metadata": {},
     "output_type": "display_data"
    }
   ],
   "source": [
    "from sklearn.metrics import confusion_matrix\n",
    "\n",
    "matriz_confusao = confusion_matrix(y_test, previsoes)\n",
    "\n",
    "sns.heatmap(matriz_confusao, annot=True, xticklabels=[\"N Cardiaco\", \"Cardiaco\"], yticklabels = [\"N Cardiaco\", \"Cardiaco\"])"
   ]
  },
  {
   "cell_type": "code",
   "execution_count": 39,
   "metadata": {
    "scrolled": true
   },
   "outputs": [
    {
     "name": "stdout",
     "output_type": "stream",
     "text": [
      "Precisão - Classe Não Cardiaco: \n",
      "72.02995867768595 %\n",
      "Precisão - Classe Cardiaco: \n",
      "75.2021563342318 %\n",
      "Acurácia: \n",
      "73.40643274853801 %\n"
     ]
    }
   ],
   "source": [
    "print(\"Precisão - Classe Não Cardiaco: \")\n",
    "print(100 * matriz_confusao[0][0] / (matriz_confusao[0][0] + matriz_confusao[1][0]), \"%\")\n",
    "\n",
    "print(\"Precisão - Classe Cardiaco: \")\n",
    "print(100 * matriz_confusao[1][1] / (matriz_confusao[1][1] + matriz_confusao[0][1]), \"%\")\n",
    "\n",
    "print(\"Acurácia: \")\n",
    "print(100 * (matriz_confusao[0][0] + matriz_confusao[1][1]) / sum(sum(matriz_confusao)), \"%\")"
   ]
  },
  {
   "cell_type": "code",
   "execution_count": 30,
   "metadata": {},
   "outputs": [
    {
     "name": "stdout",
     "output_type": "stream",
     "text": [
      "              precision    recall  f1-score   support\n",
      "\n",
      "           0       0.71      0.78      0.74      7050\n",
      "           1       0.74      0.67      0.70      6630\n",
      "\n",
      "    accuracy                           0.72     13680\n",
      "   macro avg       0.73      0.72      0.72     13680\n",
      "weighted avg       0.73      0.72      0.72     13680\n",
      "\n"
     ]
    }
   ],
   "source": [
    "from sklearn import metrics\n",
    "\n",
    "resultado = modelo_arvore.predict(x_test)\n",
    "\n",
    "\n",
    "print(metrics.classification_report(y_test,resultado))"
   ]
  },
  {
   "cell_type": "code",
   "execution_count": 53,
   "metadata": {
    "scrolled": true
   },
   "outputs": [
    {
     "name": "stdout",
     "output_type": "stream",
     "text": [
      "73.23 %\n"
     ]
    }
   ],
   "source": [
    "from sklearn import metrics\n",
    "\n",
    "fpr, tpr, thresholds = metrics.roc_curve(y_test, previsoes, pos_label=1)\n",
    "valor = metrics.auc(fpr, tpr)\n",
    "\n",
    "print(round(valor*100,2),\"%\")"
   ]
  },
  {
   "cell_type": "markdown",
   "metadata": {},
   "source": [
    "Area Under the ROC Curve é um número de 0 a 1 que mostra como seu modelo está performando ao utilizar como base para o cálculo a Taxa de Falso Positivo, a Taxa de Verdadeiro Positivo e o Threshold que você definido.\n",
    "\n",
    "#### O resultado obtido do AUC para o modelo foi de: 73.23%"
   ]
  },
  {
   "cell_type": "markdown",
   "metadata": {},
   "source": [
    "_____________"
   ]
  },
  {
   "cell_type": "markdown",
   "metadata": {},
   "source": [
    "# Perguntas Feitas Pelo CEO "
   ]
  },
  {
   "cell_type": "markdown",
   "metadata": {},
   "source": [
    "### Qual a Acurácia e a Precisão da ferramenta?\n",
    "\n",
    "O modelo se encontra com 73.41% de acurácia. Superando a precisão anterior que a empresa tinha, que era entre 55-65%."
   ]
  },
  {
   "cell_type": "markdown",
   "metadata": {},
   "source": [
    "### Quanto lucro a Cardio Catch Diseases passará a ter com a nova ferramenta?\n",
    "\n",
    "Pra cada exame que for feito, a empresa terá um lucro de 2000.00 reais, pois é uma precisão 20 porcento acima da média. Como não será mais necessário a contratação de técnicos para analisar e prever esses dados (nem mesmo do revezamento desses funcionários), o retorno líquido será de R$2000.\n"
   ]
  },
  {
   "cell_type": "markdown",
   "metadata": {},
   "source": [
    "### Qual a Confiabilidade do resultado dados pela nova ferramenta?\n",
    "\n",
    "A confiabilidade é alta, pois os dados foram otimizados para ter um melhor retorno na obtenção dos resultados esperados. Além do mais, foram testado modelos diferentes, para ter a certeza de qual tinha uma melhor execução para retorno dos nossos resultados. Fora isso, foram realizados testes de validação do modelo para verificar se ele estava tendo uma boa performance e conferir se não estava tendo problemas - como exemplo, Overfiting."
   ]
  },
  {
   "cell_type": "markdown",
   "metadata": {},
   "source": [
    "______"
   ]
  },
  {
   "cell_type": "markdown",
   "metadata": {},
   "source": [
    "## Referências: \n",
    "\n",
    "- [Problema Cardio Catch Diseases](https://sejaumdatascientist.com/projeto-de-data-science-diagnostico-precoce-de-doencas-cardiovasculares/)\n",
    "- [Cardiovascular Disease dataset](https://www.kaggle.com/sulianova/cardiovascular-disease-dataset)"
   ]
  }
 ],
 "metadata": {
  "kernelspec": {
   "display_name": "Python 3 (ipykernel)",
   "language": "python",
   "name": "python3"
  },
  "language_info": {
   "codemirror_mode": {
    "name": "ipython",
    "version": 3
   },
   "file_extension": ".py",
   "mimetype": "text/x-python",
   "name": "python",
   "nbconvert_exporter": "python",
   "pygments_lexer": "ipython3",
   "version": "3.9.6"
  }
 },
 "nbformat": 4,
 "nbformat_minor": 4
}
